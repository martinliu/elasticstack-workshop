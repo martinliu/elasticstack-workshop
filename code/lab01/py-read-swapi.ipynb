import requests
res = requests.get('http://localhost:9200')
print(res.content)